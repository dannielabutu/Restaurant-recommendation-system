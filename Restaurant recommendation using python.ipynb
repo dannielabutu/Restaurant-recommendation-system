{
 "cells": [
  {
   "cell_type": "code",
   "execution_count": 1,
   "id": "4fe6ed6f",
   "metadata": {},
   "outputs": [],
   "source": [
    "import numpy as np"
   ]
  },
  {
   "cell_type": "code",
   "execution_count": 2,
   "id": "238b9783",
   "metadata": {},
   "outputs": [],
   "source": [
    "import pandas as pd"
   ]
  },
  {
   "cell_type": "code",
   "execution_count": 3,
   "id": "b2c5f3ad",
   "metadata": {},
   "outputs": [],
   "source": [
    "from sklearn.feature_extraction import text"
   ]
  },
  {
   "cell_type": "code",
   "execution_count": 4,
   "id": "60b63651",
   "metadata": {},
   "outputs": [],
   "source": [
    "from sklearn.metrics.pairwise import cosine_similarity"
   ]
  },
  {
   "cell_type": "code",
   "execution_count": 5,
   "id": "b559251e",
   "metadata": {},
   "outputs": [],
   "source": [
    "import os"
   ]
  },
  {
   "cell_type": "code",
   "execution_count": 6,
   "id": "5c27c29a",
   "metadata": {},
   "outputs": [
    {
     "data": {
      "text/plain": [
       "'/Users/macbookretina'"
      ]
     },
     "execution_count": 6,
     "metadata": {},
     "output_type": "execute_result"
    }
   ],
   "source": [
    "os.getcwd()"
   ]
  },
  {
   "cell_type": "code",
   "execution_count": 8,
   "id": "4281f801",
   "metadata": {},
   "outputs": [
    {
     "name": "stdout",
     "output_type": "stream",
     "text": [
      "                            Name       Street Address  \\\n",
      "0  Betty Lou's Seafood and Grill     318 Columbus Ave   \n",
      "1              Coach House Diner        55 State Rt 4   \n",
      "2               Table Talk Diner  2521 South Rd Ste C   \n",
      "3                    Sixty Vines     3701 Dallas Pkwy   \n",
      "4                   The Clam Bar    3914 Brewerton Rd   \n",
      "\n",
      "                       Location                                          Type  \\\n",
      "0  San Francisco, CA 94133-3908   Seafood, Vegetarian Friendly, Vegan Options   \n",
      "1     Hackensack, NJ 07601-6337          Diner, American, Vegetarian Friendly   \n",
      "2   Poughkeepsie, NY 12601-5476          American, Diner, Vegetarian Friendly   \n",
      "3          Plano, TX 75093-7777       American, Wine Bar, Vegetarian Friendly   \n",
      "4            Syracuse, NY 13212                        American, Bar, Seafood   \n",
      "\n",
      "            Reviews No of Reviews  \\\n",
      "0  4.5 of 5 bubbles   243 reviews   \n",
      "1    4 of 5 bubbles    84 reviews   \n",
      "2    4 of 5 bubbles   256 reviews   \n",
      "3  4.5 of 5 bubbles   235 reviews   \n",
      "4    4 of 5 bubbles   285 reviews   \n",
      "\n",
      "                                            Comments   Contact Number  \\\n",
      "0                                                NaN  +1 415-757-0569   \n",
      "1  Both times we were there very late, after 11 P...  +1 201-488-4999   \n",
      "2  Waitress was very friendly but a little pricey...  +1 845-849-2839   \n",
      "3  Not sure why I went there for the second time....  +1 469-620-8463   \n",
      "4  Doesn't look like much from the outside but wa...  +1 315-458-1662   \n",
      "\n",
      "                                    Trip_advisor Url  \\\n",
      "0  https://www.tripadvisor.com//Restaurant_Review...   \n",
      "1  https://www.tripadvisor.com//Restaurant_Review...   \n",
      "2  https://www.tripadvisor.com//Restaurant_Review...   \n",
      "3  https://www.tripadvisor.com//Restaurant_Review...   \n",
      "4  https://www.tripadvisor.com//Restaurant_Review...   \n",
      "\n",
      "                                        Menu Price_Range  \n",
      "0               Check The Website for a Menu    $$ - $$$  \n",
      "1               Check The Website for a Menu    $$ - $$$  \n",
      "2  http://tabletalkdiner.com/menu/breakfast/    $$ - $$$  \n",
      "3      https://sixtyvines.com/menu/plano-tx/    $$ - $$$  \n",
      "4               Check The Website for a Menu    $$ - $$$  \n"
     ]
    }
   ],
   "source": [
    "#locating the dataset on my computer\n",
    "os.chdir(\"/Users/macbookretina/Desktop/PANDAS\")\n",
    "data = pd.read_csv(\"TripAdvisor_RestauarantRecommendation.csv\")\n",
    "print(data.head())"
   ]
  },
  {
   "cell_type": "code",
   "execution_count": 9,
   "id": "6341816b",
   "metadata": {},
   "outputs": [
    {
     "name": "stdout",
     "output_type": "stream",
     "text": [
      "                            Name                                          Type\n",
      "0  Betty Lou's Seafood and Grill   Seafood, Vegetarian Friendly, Vegan Options\n",
      "1              Coach House Diner          Diner, American, Vegetarian Friendly\n",
      "2               Table Talk Diner          American, Diner, Vegetarian Friendly\n",
      "3                    Sixty Vines       American, Wine Bar, Vegetarian Friendly\n",
      "4                   The Clam Bar                        American, Bar, Seafood\n"
     ]
    }
   ],
   "source": [
    "#selecting two columns from the data set for the rest of the task\n",
    "data = data[[\"Name\", \"Type\"]]\n",
    "print(data.head())"
   ]
  },
  {
   "cell_type": "code",
   "execution_count": 10,
   "id": "982e64a7",
   "metadata": {},
   "outputs": [
    {
     "name": "stdout",
     "output_type": "stream",
     "text": [
      "Name     0\n",
      "Type    13\n",
      "dtype: int64\n"
     ]
    }
   ],
   "source": [
    "#checking if there is any null value in the dataset\n",
    "print(data.isnull().sum())"
   ]
  },
  {
   "cell_type": "code",
   "execution_count": 11,
   "id": "c44ea156",
   "metadata": {},
   "outputs": [],
   "source": [
    "#deleting rows containing null values\n",
    "data = data.dropna()"
   ]
  },
  {
   "cell_type": "code",
   "execution_count": 20,
   "id": "dbcf3ef5",
   "metadata": {},
   "outputs": [],
   "source": [
    "#using the type column as the feature to recommend similar restaurant\n",
    "feature = data[\"Type\"].tolist()\n",
    "tfidf = text.TfidfVectorizer(input=feature, stop_words=\"english\")\n",
    "tfidf_matrix = tfidf.fit_transform(feature)\n",
    "similarity = cosine_similarity(tfidf_matrix)"
   ]
  },
  {
   "cell_type": "code",
   "execution_count": 21,
   "id": "54ea29fb",
   "metadata": {},
   "outputs": [],
   "source": [
    "indices = pd.Series(data.index, index=data['Name']).drop_duplicates()\n"
   ]
  },
  {
   "cell_type": "code",
   "execution_count": 23,
   "id": "71e4606f",
   "metadata": {},
   "outputs": [
    {
     "name": "stdout",
     "output_type": "stream",
     "text": [
      "23                   The Lion's Share\n",
      "154                        Houlihan's\n",
      "518            Midgley's Public House\n",
      "568                 Aspen Creek Grill\n",
      "770              Pete's Sunset Grille\n",
      "1190     Paul Martin's American Grill\n",
      "1581                   Aviation Grill\n",
      "1872                   Aviation Grill\n",
      "2193                Crest Bar & Grill\n",
      "2612    Tahoe Joe's Famous Steakhouse\n",
      "Name: Name, dtype: object\n"
     ]
    }
   ],
   "source": [
    "#writing a function to recommend similar restaurant\n",
    "def restaurant_recommendation(name, similarity = similarity):\n",
    "    index = indices[name]\n",
    "    similarity_scores = list(enumerate(similarity[index]))\n",
    "    similarity_scores = sorted(similarity_scores, key=lambda x: x[1], reverse=True)\n",
    "    similarity_scores = similarity_scores[0:10]\n",
    "    restaurantindices = [i[0] for i in similarity_scores]\n",
    "    return data['Name'].iloc[restaurantindices]\n",
    "print (restaurant_recommendation(\"Market Grill\"))"
   ]
  },
  {
   "cell_type": "code",
   "execution_count": null,
   "id": "66850f63",
   "metadata": {},
   "outputs": [],
   "source": []
  }
 ],
 "metadata": {
  "kernelspec": {
   "display_name": "Python 3 (ipykernel)",
   "language": "python",
   "name": "python3"
  },
  "language_info": {
   "codemirror_mode": {
    "name": "ipython",
    "version": 3
   },
   "file_extension": ".py",
   "mimetype": "text/x-python",
   "name": "python",
   "nbconvert_exporter": "python",
   "pygments_lexer": "ipython3",
   "version": "3.9.12"
  }
 },
 "nbformat": 4,
 "nbformat_minor": 5
}
